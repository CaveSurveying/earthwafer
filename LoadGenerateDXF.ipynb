{
 "cells": [
  {
   "cell_type": "code",
   "execution_count": 12,
   "metadata": {},
   "outputs": [],
   "source": [
    "import numpy\n",
    "tt = numpy.load('hundred.npy')  # terrain tile\n",
    "zmin, zmax = tt.min(), tt.max()\n"
   ]
  },
  {
   "cell_type": "code",
   "execution_count": 3,
   "metadata": {},
   "outputs": [],
   "source": [
    "import ezdxf\n"
   ]
  },
  {
   "cell_type": "code",
   "execution_count": 20,
   "metadata": {},
   "outputs": [
    {
     "data": {
      "text/plain": [
       "<class 'ezdxf.entities.lwpolyline.LWPolyline'> LWPOLYLINE(#33)"
      ]
     },
     "execution_count": 20,
     "metadata": {},
     "output_type": "execute_result"
    }
   ],
   "source": [
    "zlo = zmin - 5\n",
    "zgap = zmax - zlo+5\n",
    "xgap = len(tt[0])\n",
    "\n",
    "i = 0\n",
    "sx, sz = (i//10)*xgap, (i%10)*zgap\n",
    "pl = numpy.array([ (x+sx, z-zlo+sz, x+1+sx, z-zlo+sz)  for x, z in enumerate(tt[i]) ])\n",
    "pl.reshape(200,2)\n",
    "msp.add_lwpolyline(pl, dxfattribs={'layer': 'surfcuts'})\n"
   ]
  },
  {
   "cell_type": "code",
   "execution_count": null,
   "metadata": {},
   "outputs": [],
   "source": [
    "def getdrow(r, zlo):\n",
    "    ds = [\"M%d 0L0 0\" % len(r)]\n",
    "    for x, z in enumerate(r):\n",
    "        ds.append(\"L%d %.3fL%d %.3f\" % (x, z-zlo, x+1, z-zlo))\n",
    "    ds.append(\"Z\")\n",
    "    return \"\".join(ds)"
   ]
  },
  {
   "cell_type": "code",
   "execution_count": 31,
   "metadata": {},
   "outputs": [],
   "source": [
    "doc = ezdxf.new('R2010')  # create a new DXF R2010 drawing, official DXF version name: 'AC1024'\n",
    "\n",
    "msp = doc.modelspace()  # add new entities to the modelspace\n",
    "\n",
    "doc.layers.new(name='surfcuts', dxfattribs={'color': 7})\n",
    "doc.layers.new(name='crosscuts', dxfattribs={'color': 6})\n",
    "\n",
    "zlo = zmin - 5\n",
    "zgap = zmax - zlo+5\n",
    "xgap = len(tt[0])\n",
    "\n",
    "for i in range(0,100):\n",
    "    sx, sz = (i//10)*xgap, (i%10)*zgap\n",
    "    pl = numpy.array([ (x+sx, z-zlo+sz, x+1+sx, z-zlo+sz)  for x, z in enumerate(tt[i]) ])\n",
    "    pl.reshape(200,2)\n",
    "    msp.add_lwpolyline(pl, dxfattribs={'layer': 'surfcuts'})\n",
    "    msp.add_circle((sx+10, sz+10), 3, dxfattribs={'layer': 'surfcuts'})\n",
    "    \n",
    "for i in range(10):\n",
    "    msp.add_line((0, i*zgap), (xgap*10, i*zgap), dxfattribs={'layer': 'crosscuts'})\n",
    "    for j in range(11):\n",
    "        msp.add_line((j*xgap, i*zgap+2), (j*xgap, (i+1)*zgap), dxfattribs={'layer': 'crosscuts'})\n",
    "\n",
    "doc.saveas('wafer.dxf')\n",
    "\n",
    "\n"
   ]
  },
  {
   "cell_type": "code",
   "execution_count": 25,
   "metadata": {},
   "outputs": [
    {
     "name": "stdout",
     "output_type": "stream",
     "text": [
      "Help on method add_text in module ezdxf.graphicsfactory:\n",
      "\n",
      "add_text(text: str, dxfattribs: dict = None) -> 'Text' method of ezdxf.layouts.layout.Modelspace instance\n",
      "    Add a :class:`~ezdxf.entities.Text` entity, see also :class:`Style`.\n",
      "    \n",
      "    Args:\n",
      "        text: content string\n",
      "        dxfattribs (dict): additional DXF attributes for :class:`Text` entity\n",
      "\n"
     ]
    }
   ],
   "source": [
    "help(msp.add_text)"
   ]
  },
  {
   "cell_type": "code",
   "execution_count": null,
   "metadata": {},
   "outputs": [],
   "source": []
  }
 ],
 "metadata": {
  "kernelspec": {
   "display_name": "Python 3",
   "language": "python",
   "name": "python3"
  },
  "language_info": {
   "codemirror_mode": {
    "name": "ipython",
    "version": 3
   },
   "file_extension": ".py",
   "mimetype": "text/x-python",
   "name": "python",
   "nbconvert_exporter": "python",
   "pygments_lexer": "ipython3",
   "version": "3.7.4"
  }
 },
 "nbformat": 4,
 "nbformat_minor": 2
}
