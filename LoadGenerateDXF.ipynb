{
 "cells": [
  {
   "cell_type": "code",
   "execution_count": 12,
   "metadata": {},
   "outputs": [],
   "source": [
    "import numpy\n",
    "import ezdxf\n",
    "\n",
    "tt = numpy.load('hundred.npy')  # terrain tile\n",
    "zmin, zmax = tt.min(), tt.max()\n"
   ]
  },
  {
   "cell_type": "code",
   "execution_count": 70,
   "metadata": {},
   "outputs": [],
   "source": [
    "doc = ezdxf.new('R14')  # create a new DXF R2010 drawing, official DXF version name: 'AC1024'\n",
    "\n",
    "msp = doc.modelspace()  # add new entities to the modelspace\n",
    "\n",
    "doc.layers.new(name='surfcuts', dxfattribs={'color': 7})\n",
    "doc.layers.new(name='crosscuts1', dxfattribs={'color': 5})\n",
    "doc.layers.new(name='crosscuts2', dxfattribs={'color': 6})\n",
    "\n",
    "zlo = zmin - 5\n",
    "zgap = zmax - zlo+5\n",
    "xgap = len(tt[0])\n",
    "sca = 0.25\n",
    "\n",
    "for i in range(0,100):\n",
    "    sx, sz = (i//10)*xgap, (i%10)*zgap\n",
    "    pl = numpy.array([ (z-zlo+sz, x+sx, z-zlo+sz, x+1+sx)  for x, z in enumerate(tt[i]) ])\n",
    "    pl.reshape(200,2)\n",
    "    pl = pl*sca\n",
    "    msp.add_polyline2d(pl, dxfattribs={'layer': 'surfcuts'})\n",
    "    msp.add_circle(((sz+10)*sca, (sx+10)*sca), 3*sca, dxfattribs={'layer': 'surfcuts'})\n",
    "    \n",
    "for i in range(10):\n",
    "    msp.add_line((i*zgap*sca, 0), (i*zgap*sca, xgap*10*sca), dxfattribs={'layer': 'crosscuts2'})\n",
    "    for j in range(11):\n",
    "        msp.add_line((i*zgap*sca, j*xgap*sca), ((i*zgap+2)*sca, j*xgap*sca), dxfattribs={'layer': 'crosscuts1'})\n",
    "        msp.add_line(((i*zgap+5)*sca, j*xgap*sca), ((i+1)*zgap*sca, j*xgap*sca), dxfattribs={'layer': 'crosscuts1'})\n",
    "\n",
    "doc.saveas('earthwafer4.dxf')\n",
    "\n",
    "\n"
   ]
  }
 ],
 "metadata": {
  "kernelspec": {
   "display_name": "Python 3",
   "language": "python",
   "name": "python3"
  },
  "language_info": {
   "codemirror_mode": {
    "name": "ipython",
    "version": 3
   },
   "file_extension": ".py",
   "mimetype": "text/x-python",
   "name": "python",
   "nbconvert_exporter": "python",
   "pygments_lexer": "ipython3",
   "version": "3.7.4"
  }
 },
 "nbformat": 4,
 "nbformat_minor": 2
}
