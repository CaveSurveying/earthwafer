{
 "cells": [
  {
   "cell_type": "code",
   "execution_count": 18,
   "metadata": {},
   "outputs": [],
   "source": [
    "import numpy\n",
    "tt = numpy.load('hundred.npy')  # terrain tile"
   ]
  },
  {
   "cell_type": "code",
   "execution_count": 19,
   "metadata": {},
   "outputs": [
    {
     "data": {
      "text/plain": [
       "(1460.3410000000001, 1494.3010000000002)"
      ]
     },
     "execution_count": 19,
     "metadata": {},
     "output_type": "execute_result"
    }
   ],
   "source": [
    "zmin, zmax = tt.min(), tt.max()\n",
    "zmin, zmax"
   ]
  },
  {
   "cell_type": "code",
   "execution_count": 34,
   "metadata": {},
   "outputs": [],
   "source": [
    "def getdrow(r, zlo):\n",
    "    ds = [\"M%d 0L0 0\" % len(r)]\n",
    "    for x, z in enumerate(r):\n",
    "        ds.append(\"L%d %.3fL%d %.3f\" % (x, z-zlo, x+1, z-zlo))\n",
    "    ds.append(\"Z\")\n",
    "    return \"\".join(ds)"
   ]
  },
  {
   "cell_type": "code",
   "execution_count": 43,
   "metadata": {},
   "outputs": [],
   "source": [
    "zlo = zmin - 5\n",
    "zgap = zmax - zlo+5\n",
    "xgap = len(tt[0])\n",
    "with open(\"hundred.svg\", \"w\") as fout:\n",
    "    fout.write('<svg height=\"210\" width=\"400\" fill=\"none\" stroke=\"red\">\\n')\n",
    "    for i in range(0,100):\n",
    "        tr = 'transform=\"translate(%.3f,%.3f)\"' % ((i//10)*xgap, (i%10)*zgap)\n",
    "        fout.write('<path %s d=\"%s\" />\\n' % (tr, getdrow(tt[i], zlo)))\n",
    "    fout.write('</svg>\\n')\n"
   ]
  },
  {
   "cell_type": "code",
   "execution_count": null,
   "metadata": {},
   "outputs": [],
   "source": [
    "# Should do the surface lines first (one colour), \n",
    "# then the cross cuts (a different colour for a different feed)\n",
    "# Make the rows stackable to save on individual lines"
   ]
  }
 ],
 "metadata": {
  "kernelspec": {
   "display_name": "Python 3",
   "language": "python",
   "name": "python3"
  },
  "language_info": {
   "codemirror_mode": {
    "name": "ipython",
    "version": 3
   },
   "file_extension": ".py",
   "mimetype": "text/x-python",
   "name": "python",
   "nbconvert_exporter": "python",
   "pygments_lexer": "ipython3",
   "version": "3.7.4"
  }
 },
 "nbformat": 4,
 "nbformat_minor": 2
}
