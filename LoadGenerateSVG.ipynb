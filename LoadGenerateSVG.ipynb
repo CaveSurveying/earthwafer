{
 "cells": [
  {
   "cell_type": "code",
   "execution_count": 13,
   "metadata": {},
   "outputs": [
    {
     "data": {
      "text/plain": [
       "[1e-256, 1e-128, 1e-64, 1e-32, 1e-16, 1e-08, 0.0001, 0.01, 0.1]"
      ]
     },
     "execution_count": 13,
     "metadata": {},
     "output_type": "execute_result"
    }
   ],
   "source": [
    "pos_pow = [ 1e256, 1e128, 1e64, 1e32, 1e16, 1e8, 1e4, 1e2, 1e1 ]\n",
    "neg_pow = [ 1.0e-256, 1e-128, 1e-64, 1e-32, 1e-16, 1e-8, 1e-4, 1e-2, 1e-1 ]\n",
    "neg_pow"
   ]
  },
  {
   "cell_type": "code",
   "execution_count": 36,
   "metadata": {},
   "outputs": [
    {
     "data": {
      "text/plain": [
       "'99;000000000000000  '"
      ]
     },
     "execution_count": 36,
     "metadata": {},
     "output_type": "execute_result"
    }
   ],
   "source": [
    "f = 99.0\n",
    "#f = 9000160.0\n",
    "prec = 15\n",
    "fintcomponent = int(f)\n",
    "\n",
    "e, e1 = 0, 256\n",
    "ip = 0\n",
    "while e1 != 0:  # divide out by powers of ten\n",
    "    if pos_pow[ip] <= f:\n",
    "        e += e1\n",
    "        f *= neg_pow[ip]\n",
    "    e1 >>= 1\n",
    "    ip += 1\n",
    "if int(f) >= 10:\n",
    "    e += 1\n",
    "    f *= 0.1\n",
    "    \n",
    "dec = e\n",
    "num_digits = prec + e + 1;\n",
    "f, e\n",
    "i = 0\n",
    "s = [\" \"]*20\n",
    "si = 0\n",
    "\n",
    "j = dec\n",
    "f = (f-fintcomponent)*10\n",
    "while j >= 0:\n",
    "    s[j] = chr(ord('0') + (fintcomponent%10))\n",
    "    fintcomponent = fintcomponent//10\n",
    "    j -= 1\n",
    "i = dec + 1\n",
    "s[i] = \";\"\n",
    "si = i + 1\n",
    "dec = -1\n",
    "\n",
    "while i < num_digits:\n",
    "    d = int(f)\n",
    "    if (d < 0):\n",
    "        s[si] = '0'\n",
    "    else:\n",
    "        s[si] = chr(ord('0') + d)\n",
    "    si += 1\n",
    "    if (dec == 0) and (prec > 0):\n",
    "        s[si] = '.'\n",
    "        si += 1\n",
    "    f -= d;\n",
    "    f *= 10.0;\n",
    "    i += 1\n",
    "    dec -= 1\n",
    "\n",
    "\"\".join(s)"
   ]
  },
  {
   "cell_type": "code",
   "execution_count": 23,
   "metadata": {},
   "outputs": [
    {
     "data": {
      "text/plain": [
       "4294.967296"
      ]
     },
     "execution_count": 23,
     "metadata": {},
     "output_type": "execute_result"
    }
   ],
   "source": [
    "2**32/1000000"
   ]
  },
  {
   "cell_type": "code",
   "execution_count": null,
   "metadata": {},
   "outputs": [],
   "source": [
    "        // It can be that f was right on the edge of an entry in pos_pow needs to be reduced\n",
    "        if ((int)f >= 10) {\n",
    "            e += 1;\n",
    "            f *= FPCONST(0.1);\n",
    "        }\n"
   ]
  },
  {
   "cell_type": "code",
   "execution_count": null,
   "metadata": {},
   "outputs": [],
   "source": []
  },
  {
   "cell_type": "code",
   "execution_count": null,
   "metadata": {},
   "outputs": [],
   "source": []
  },
  {
   "cell_type": "code",
   "execution_count": null,
   "metadata": {},
   "outputs": [],
   "source": []
  },
  {
   "cell_type": "code",
   "execution_count": null,
   "metadata": {},
   "outputs": [],
   "source": []
  },
  {
   "cell_type": "code",
   "execution_count": null,
   "metadata": {},
   "outputs": [],
   "source": []
  },
  {
   "cell_type": "code",
   "execution_count": 18,
   "metadata": {},
   "outputs": [],
   "source": [
    "import numpy\n",
    "tt = numpy.load('hundred.npy')  # terrain tile"
   ]
  },
  {
   "cell_type": "code",
   "execution_count": 19,
   "metadata": {},
   "outputs": [
    {
     "data": {
      "text/plain": [
       "(1460.3410000000001, 1494.3010000000002)"
      ]
     },
     "execution_count": 19,
     "metadata": {},
     "output_type": "execute_result"
    }
   ],
   "source": [
    "zmin, zmax = tt.min(), tt.max()\n",
    "zmin, zmax"
   ]
  },
  {
   "cell_type": "code",
   "execution_count": 34,
   "metadata": {},
   "outputs": [],
   "source": [
    "def getdrow(r, zlo):\n",
    "    ds = [\"M%d 0L0 0\" % len(r)]\n",
    "    for x, z in enumerate(r):\n",
    "        ds.append(\"L%d %.3fL%d %.3f\" % (x, z-zlo, x+1, z-zlo))\n",
    "    ds.append(\"Z\")\n",
    "    return \"\".join(ds)"
   ]
  },
  {
   "cell_type": "code",
   "execution_count": 43,
   "metadata": {},
   "outputs": [],
   "source": [
    "zlo = zmin - 5\n",
    "zgap = zmax - zlo+5\n",
    "xgap = len(tt[0])\n",
    "with open(\"hundred.svg\", \"w\") as fout:\n",
    "    fout.write('<svg height=\"210\" width=\"400\" fill=\"none\" stroke=\"red\">\\n')\n",
    "    for i in range(0,100):\n",
    "        tr = 'transform=\"translate(%.3f,%.3f)\"' % ((i//10)*xgap, (i%10)*zgap)\n",
    "        fout.write('<path %s d=\"%s\" />\\n' % (tr, getdrow(tt[i], zlo)))\n",
    "    fout.write('</svg>\\n')\n"
   ]
  },
  {
   "cell_type": "code",
   "execution_count": null,
   "metadata": {},
   "outputs": [],
   "source": [
    "# Should do the surface lines first (one colour), \n",
    "# then the cross cuts (a different colour for a different feed)\n",
    "# Make the rows stackable to save on individual lines"
   ]
  }
 ],
 "metadata": {
  "kernelspec": {
   "display_name": "Python 3",
   "language": "python",
   "name": "python3"
  },
  "language_info": {
   "codemirror_mode": {
    "name": "ipython",
    "version": 3
   },
   "file_extension": ".py",
   "mimetype": "text/x-python",
   "name": "python",
   "nbconvert_exporter": "python",
   "pygments_lexer": "ipython3",
   "version": "3.7.4"
  }
 },
 "nbformat": 4,
 "nbformat_minor": 2
}
